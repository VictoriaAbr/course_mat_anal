{
 "cells": [
  {
   "cell_type": "code",
   "execution_count": null,
   "metadata": {},
   "outputs": [],
   "source": [
    "import numpy as np \n",
    "import matplotlib.pyplot as plt\n",
    "import scipy.linalg  \n",
    "from scipy import *  \n",
    "import pylab\n",
    "from mpl_toolkits.mplot3d import Axes3D"
   ]
  },
  {
   "cell_type": "code",
   "execution_count": null,
   "metadata": {},
   "outputs": [],
   "source": [
    "def Q(x, y):\n",
    "    return (x**2 + y**2)\n",
    "x = np.linspace(-1, 5, 201)\n",
    "plt.plot(x, Q(x, 6 - 0.5 * x))\n",
    "plt.xlabel('x')\n",
    "plt.ylabel('y')\n",
    "plt.grid(True)\n",
    "plt.show()"
   ]
  },
  {
   "cell_type": "code",
   "execution_count": null,
   "metadata": {},
   "outputs": [],
   "source": [
    "import numpy as np \n",
    "import pylab\n",
    "from mpl_toolkits.mplot3d import Axes3D\n",
    "def makeData ():\n",
    "    x = numpy.arange (-10, 10, 0.1)\n",
    "    y = numpy.arange (-10, 10, 0.1)\n",
    "    xgrid, ygrid = np.meshgrid(x, y)\n",
    "\n",
    "    zgrid = - 1 + xgrid + 2 * ygrid\n",
    "\n",
    "    return xgrid, ygrid, zgrid\n",
    "\n",
    "x, y, z = makeData()\n",
    "\n",
    "fig = pylab.figure()\n",
    "axes = Axes3D(fig)\n",
    "\n",
    "axes.plot_surface(x, y, z)\n",
    "\n",
    "pylab.show()"
   ]
  },
  {
   "cell_type": "code",
   "execution_count": null,
   "metadata": {},
   "outputs": [],
   "source": [
    "import pylab\n",
    "from mpl_toolkits.mplot3d import Axes3D\n",
    "import numpy\n",
    "\n",
    "def makeData ():\n",
    "    x = numpy.arange (-10, 10, 0.1)\n",
    "    y = numpy.arange (-10, 10, 0.1)\n",
    "    xgrid, ygrid = numpy.meshgrid(x, y)\n",
    "\n",
    "    zgrid = 6 - 4 * xgrid + 2,5 * ygrid\n",
    "\n",
    "    return xgrid, ygrid, zgrid\n",
    "\n",
    "x, y, z = makeData()\n",
    "\n",
    "fig = pylab.figure()\n",
    "axes = Axes3D(fig)\n",
    "\n",
    "axes.plot_surface(x, y, z)\n",
    "\n",
    "pylab.show()"
   ]
  },
  {
   "cell_type": "code",
   "execution_count": null,
   "metadata": {},
   "outputs": [],
   "source": [
    "def Q(x1, x2, x3):\n",
    "    return (x1**2 + x2**2 + x3**2)\n",
    "\n",
    "x = np.linspace(-10, 10, 201)\n",
    "y = -14 + 10 * x\n",
    "plt.plot(x, Q(x, y))\n",
    "plt.xlabel('x')\n",
    "plt.ylabel('y')\n",
    "plt.grid(True)\n",
    "plt.show()"
   ]
  },
  {
   "cell_type": "code",
   "execution_count": null,
   "metadata": {},
   "outputs": [],
   "source": []
  },
  {
   "cell_type": "code",
   "execution_count": null,
   "metadata": {},
   "outputs": [],
   "source": []
  },
  {
   "cell_type": "code",
   "execution_count": null,
   "metadata": {},
   "outputs": [],
   "source": []
  }
 ],
 "metadata": {
  "kernelspec": {
   "display_name": "Python 3",
   "language": "python",
   "name": "python3"
  },
  "language_info": {
   "codemirror_mode": {
    "name": "ipython",
    "version": 3
   },
   "file_extension": ".py",
   "mimetype": "text/x-python",
   "name": "python",
   "nbconvert_exporter": "python",
   "pygments_lexer": "ipython3",
   "version": "3.8.5"
  }
 },
 "nbformat": 4,
 "nbformat_minor": 4
}
