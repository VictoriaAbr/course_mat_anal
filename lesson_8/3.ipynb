{
 "cells": [
  {
   "cell_type": "code",
   "execution_count": 84,
   "metadata": {},
   "outputs": [],
   "source": [
    "import numpy as np"
   ]
  },
  {
   "cell_type": "code",
   "execution_count": 85,
   "metadata": {},
   "outputs": [
    {
     "name": "stdout",
     "output_type": "stream",
     "text": [
      "Ранг исходной матрицы - 2\n",
      "Ранг расширенной матрицы - 3\n",
      "Система ЛУ несовместна и не имеет решений\n"
     ]
    }
   ],
   "source": [
    "A = np.array([[1, 2, 3], [4, 5, 6], [7, 8, 9]])\n",
    "B = np.array([12, 2, 1])\n",
    "rankA = np.linalg.matrix_rank(A, 0.0001)\n",
    "print(f'Ранг исходной матрицы - {rankA}')\n",
    "\n",
    "C = np.array([[1, 2, 3, 12], [4, 5, 6, 2], [7, 8, 9, 1]])\n",
    "rankC = np.linalg.matrix_rank(C, 0.0001)\n",
    "print(f'Ранг расширенной матрицы - {rankC}')\n",
    "\n",
    "if rankA < rankC:\n",
    "    print ('Система ЛУ несовместна и не имеет решений')\n",
    "elif rankA == rankC:\n",
    "    print ('Система ЛУ совместна')"
   ]
  },
  {
   "cell_type": "code",
   "execution_count": 88,
   "metadata": {},
   "outputs": [
    {
     "name": "stdout",
     "output_type": "stream",
     "text": [
      "Ранг исходной матрицы - 3\n",
      "Ранг расширенной матрицы - 3\n",
      "Система ЛУ совместна\n"
     ]
    },
    {
     "data": {
      "text/plain": [
       "array([  0.9,  14.2, -12.1])"
      ]
     },
     "execution_count": 88,
     "metadata": {},
     "output_type": "execute_result"
    }
   ],
   "source": [
    "A = np.array([[11, 2, 3], [4, 5, 6], [7, 8, 9]])\n",
    "B = np.array([2, 2, 11])\n",
    "rankA = np.linalg.matrix_rank(A, 0.0001)\n",
    "print(f'Ранг исходной матрицы - {rankA}')\n",
    "\n",
    "C = np.array([[1, 2, 3, 12], [4, 5, 6, 2], [7, 8, 9, 1]])\n",
    "rankC = np.linalg.matrix_rank(C, 0.0001)\n",
    "print(f'Ранг расширенной матрицы - {rankC}')\n",
    "\n",
    "if rankA < rankC:\n",
    "    print ('Система ЛУ несовместна и не имеет решений')\n",
    "elif rankA == rankC:\n",
    "    print ('Система ЛУ совместна')\n",
    "np.linalg.solve(A, B)"
   ]
  },
  {
   "cell_type": "code",
   "execution_count": null,
   "metadata": {},
   "outputs": [],
   "source": []
  },
  {
   "cell_type": "code",
   "execution_count": null,
   "metadata": {},
   "outputs": [],
   "source": []
  }
 ],
 "metadata": {
  "kernelspec": {
   "display_name": "Python 3",
   "language": "python",
   "name": "python3"
  },
  "language_info": {
   "codemirror_mode": {
    "name": "ipython",
    "version": 3
   },
   "file_extension": ".py",
   "mimetype": "text/x-python",
   "name": "python",
   "nbconvert_exporter": "python",
   "pygments_lexer": "ipython3",
   "version": "3.8.5"
  }
 },
 "nbformat": 4,
 "nbformat_minor": 4
}
