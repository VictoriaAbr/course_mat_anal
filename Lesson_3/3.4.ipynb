{
 "cells": [
  {
   "cell_type": "code",
   "execution_count": 88,
   "metadata": {},
   "outputs": [],
   "source": [
    "import numpy as np\n",
    "import matplotlib.pyplot as plt\n",
    "import math"
   ]
  },
  {
   "cell_type": "code",
   "execution_count": 109,
   "metadata": {},
   "outputs": [
    {
     "name": "stderr",
     "output_type": "stream",
     "text": [
      "<ipython-input-109-1bc91a417855>:2: RuntimeWarning: divide by zero encountered in true_divide\n",
      "  plt.plot(x, (-1/x + np.exp(x)/x + 1))\n",
      "<ipython-input-109-1bc91a417855>:2: RuntimeWarning: invalid value encountered in add\n",
      "  plt.plot(x, (-1/x + np.exp(x)/x + 1))\n"
     ]
    },
    {
     "data": {
      "image/png": "[encoded data removed]",
      "text/plain": [
       "<Figure size 432x288 with 1 Axes>"
      ]
     },
     "metadata": {
      "needs_background": "light"
     },
     "output_type": "display_data"
    },
    {
     "name": "stdout",
     "output_type": "stream",
     "text": [
      "-1.5818353528959 1.5022030836712945\n"
     ]
    }
   ],
   "source": [
    "x = np.linspace(-2, 3, 201)\n",
    "plt.plot(x, (-1/x + np.exp(x)/x + 1))\n",
    "plt.plot(x, x**2 - 1)\n",
    "plt.xlabel('x')\n",
    "plt.ylabel('y')\n",
    "plt.ylim(-2) \n",
    "plt.grid(True)\n",
    "plt.show()\n",
    "\n",
    "from scipy.optimize import fsolve\n",
    "\n",
    "def equations(p):\n",
    "    x, y = p\n",
    "    return (y - x**2 + 1, np.exp(x) + x - x*y - 1)\n",
    "\n",
    "x1, y1 =  fsolve(equations, (-2, 5))\n",
    "              \n",
    "print (x1, y1)"
   ]
  },
  {
   "cell_type": "code",
   "execution_count": 113,
   "metadata": {},
   "outputs": [
    {
     "name": "stdout",
     "output_type": "stream",
     "text": [
      "-0.4292595379391825 -0.8157362490882396\n"
     ]
    }
   ],
   "source": [
    "from scipy.optimize import fsolve\n",
    "\n",
    "def equations(p):\n",
    "    x, y = p\n",
    "    return (y - x**2 + 1, np.exp(x) + x - x*y > 1)\n",
    "\n",
    "x1, y1 =  fsolve(equations, (-2, 5))\n",
    "              \n",
    "print (x1, y1)"
   ]
  },
  {
   "cell_type": "code",
   "execution_count": null,
   "metadata": {},
   "outputs": [],
   "source": []
  },
  {
   "cell_type": "code",
   "execution_count": null,
   "metadata": {},
   "outputs": [],
   "source": []
  },
  {
   "cell_type": "code",
   "execution_count": null,
   "metadata": {},
   "outputs": [],
   "source": []
  },
  {
   "cell_type": "code",
   "execution_count": null,
   "metadata": {},
   "outputs": [],
   "source": []
  }
 ],
 "metadata": {
  "kernelspec": {
   "display_name": "Python 3",
   "language": "python",
   "name": "python3"
  },
  "language_info": {
   "codemirror_mode": {
    "name": "ipython",
    "version": 3
   },
   "file_extension": ".py",
   "mimetype": "text/x-python",
   "name": "python",
   "nbconvert_exporter": "python",
   "pygments_lexer": "ipython3",
   "version": "3.8.5"
  }
 },
 "nbformat": 4,
 "nbformat_minor": 4
}
