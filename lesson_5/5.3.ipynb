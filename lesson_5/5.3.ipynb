{
 "cells": [
  {
   "cell_type": "code",
   "execution_count": 139,
   "metadata": {},
   "outputs": [],
   "source": [
    "import numpy as np\n",
    "import itertools\n",
    "import math"
   ]
  },
  {
   "cell_type": "code",
   "execution_count": 189,
   "metadata": {},
   "outputs": [
    {
     "name": "stdout",
     "output_type": "stream",
     "text": [
      "37\n",
      "оценка вероятности методом МонтеКарло - 0.37\n",
      "оценка вероятности через биномиальное распределение - 0.01318359375\n"
     ]
    }
   ],
   "source": [
    "e, f = 0, 100\n",
    "a = np.random.randint(0, 2, f)\n",
    "b = np.random.randint(0, 2, f)\n",
    "c = np.random.randint(0, 2, f)\n",
    "d = np.random.randint(0, 2, f)\n",
    "x = a + b + c + d\n",
    "for i in range(0, f):\n",
    "    if x[i] == 2:\n",
    "        e += 1\n",
    "print(e)\n",
    "print(f'оценка вероятности методом МонтеКарло - {e/f}')\n",
    "\n",
    "#k - победы (2), n - испытания (4)\n",
    "k = 2\n",
    "n = 4\n",
    "c = math.factorial(n) / (math.factorial(k) * math.factorial(n-k))\n",
    "p = 1/n\n",
    "q = 1 - p\n",
    "v = c * (p**n) * (q**(n-k))\n",
    "print(f'оценка вероятности через биномиальное распределение - {v}')"
   ]
  },
  {
   "cell_type": "code",
   "execution_count": 190,
   "metadata": {},
   "outputs": [
    {
     "name": "stdout",
     "output_type": "stream",
     "text": [
      "оценка вероятности через биномиальное распределение - 0.0020480000000000008\n"
     ]
    }
   ],
   "source": [
    "k = 3\n",
    "n = 5\n",
    "c = math.factorial(n) / (math.factorial(k) * math.factorial(n-k))\n",
    "p = 1 / n\n",
    "q = 1 - p\n",
    "v = c * (p**n) * (q**(n-k))\n",
    "print(f'оценка вероятности через биномиальное распределение - {v}')"
   ]
  },
  {
   "cell_type": "code",
   "execution_count": null,
   "metadata": {},
   "outputs": [],
   "source": []
  },
  {
   "cell_type": "code",
   "execution_count": null,
   "metadata": {},
   "outputs": [],
   "source": []
  },
  {
   "cell_type": "code",
   "execution_count": null,
   "metadata": {},
   "outputs": [],
   "source": []
  },
  {
   "cell_type": "code",
   "execution_count": null,
   "metadata": {},
   "outputs": [],
   "source": []
  },
  {
   "cell_type": "code",
   "execution_count": null,
   "metadata": {},
   "outputs": [],
   "source": []
  },
  {
   "cell_type": "code",
   "execution_count": null,
   "metadata": {},
   "outputs": [],
   "source": []
  }
 ],
 "metadata": {
  "kernelspec": {
   "display_name": "Python 3",
   "language": "python",
   "name": "python3"
  },
  "language_info": {
   "codemirror_mode": {
    "name": "ipython",
    "version": 3
   },
   "file_extension": ".py",
   "mimetype": "text/x-python",
   "name": "python",
   "nbconvert_exporter": "python",
   "pygments_lexer": "ipython3",
   "version": "3.8.5"
  }
 },
 "nbformat": 4,
 "nbformat_minor": 4
}
